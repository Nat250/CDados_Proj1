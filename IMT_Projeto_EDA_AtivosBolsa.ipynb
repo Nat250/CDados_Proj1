{
  "nbformat": 4,
  "nbformat_minor": 0,
  "metadata": {
    "colab": {
      "provenance": []
    },
    "kernelspec": {
      "name": "python3",
      "display_name": "Python 3"
    },
    "language_info": {
      "name": "python"
    }
  },
  "cells": [
    {
      "cell_type": "markdown",
      "metadata": {
        "id": "80CF3Eq9EXDW"
      },
      "source": [
        "<img src=\"https://github.com/Rogerio-mack/IMT_CD_2024/blob/main/maua_logo.png?raw=true\" width=300, align=\"right\">\n",
        "\n"
      ]
    },
    {
      "cell_type": "markdown",
      "source": [
        "# **Exploratory Data Analysis (EDA)**\n",
        "## Análise de Ativos da Bolsa Brasileira de Empresas entre 2020-2024"
      ],
      "metadata": {
        "id": "egMY3jx-rhtd"
      }
    },
    {
      "cell_type": "code",
      "metadata": {
        "id": "rYx9D4GZA5o9",
        "cellView": "form"
      },
      "source": [
        "#@title **Identificação do Grupo**\n",
        "\n",
        "#@markdown Nomes completos em ordem alfabética (*\\<nome\\>, \\<RA\\>*)\n",
        "Aluno1 = 'Johannes Mattheus Krouwel, 20.01248-9' #@param {type:\"string\"}\n",
        "Aluno2 = 'Kaique de Andrade Almeida, 17.01113-2' #@param {type:\"string\"}\n",
        "Aluno3 = 'Filipe dos Santos Pugliesi, 18.02608-7' #@param {type:\"string\"}\n",
        "Aluno4 = 'Marcel Marques Caceres, 17.00648-0' #@param {type:\"string\"}\n",
        "Aluno5 = 'None' #@param {type:\"string\"}\n",
        "\n",
        "\n",
        "\n"
      ],
      "execution_count": null,
      "outputs": []
    },
    {
      "cell_type": "markdown",
      "source": [
        "# **Resumo (*Abstract*)**\n",
        "\n",
        "Através dos dados nos fornecidos sobre os casos de Covid entre 2020 e 2024, examinamos a evolução dos casos, casos e óbitos novos e casos em acompanhamento durante o período. Relacionando isso com a evolução dos ativos das empresas LOG-IN Logística Modal e as Linhas Aéreas Gol durante o mesmo tempo, analisamos quais causas e correlações poderiam existir entre os dois eventos. Como uma observação bônus, também analisamos os mesmos com a quantidade de pacientes com Síndrome Respiratória Aguda Grave vacinados contra Covid-19 entre 2021 e 2023."
      ],
      "metadata": {
        "id": "JlCIc2YooBW7"
      }
    },
    {
      "cell_type": "markdown",
      "source": [
        "# **Introdução**\n",
        "\n",
        "(Infelizmente foi pego o template errado para fazer o projeto. A culpa foi completamente minha, peço desculpas por isso. Devido as provas e o tempo dado ao projeto, tenho quase certeza que não há chance para um oportunidade de refazê-lo.\n",
        "-Johannes Mattheus Krouwel)\n",
        "\n",
        "O propósito dessa análise é observar como os ativos da bolsa brasileira da LOG-IN Logística Modal e as Linhas Aéreas Gol foram afetadas pela pandemia COVID e o período posterior. Espera-se que maior parte das empresas do mundo, especialmente uma de transporte como a Gol, teriam sofrido economicamente durante a pandemia, porém também é necessário saber o quanto conseguiram se recuperar.\n",
        "\n",
        "Além disso, também foram analisados os dados de Síndrome Respiratória Aguda Grave entre 2021 e 2023 disponíveis em https://opendatasus.saude.gov.br/ para ver se houve alguma correlação entre os dados anteriores durante da segunda metade da pandemia e o ano depois de tal terminar. Infelizmente dados de 2020 e 2024 não estavam disponíveis."
      ],
      "metadata": {
        "id": "sWIVEv32I6Sz"
      }
    },
    {
      "cell_type": "markdown",
      "metadata": {
        "id": "xGFJyOm1Kdtd"
      },
      "source": [
        "# **Descrição e origem dos dados**\n",
        "\n",
        "As fontes dos dados são principalmente recursos do governo disponíveis publicamente, incluindo casos de Covid, quantas infecções e óbitos foram registradas diariamente, os sintomas específicos de cada paciente, etc. As que não fazem parte de tal categoria são dados de ativos de bolsa B3, especificamente dos da empresa Vias Aéreas Gol e LOG-IN Logística Modal, também disponíveis publicamente."
      ]
    },
    {
      "cell_type": "markdown",
      "metadata": {
        "id": "UHFq7nEmK-yF"
      },
      "source": [
        "# **Aquisição e Preparação dos dados**\n",
        "\n",
        "\n",
        "\n",
        "\n",
        "\n",
        "\n",
        "\n",
        "\n"
      ]
    },
    {
      "cell_type": "code",
      "source": [
        "import pandas as pd\n",
        "import numpy as np\n",
        "import matplotlib.pyplot as plt\n",
        "%matplotlib inline\n",
        "import seaborn as sns\n",
        "import zipfile\n",
        "\n",
        "# Dados de excel convertidos para dataframes\n",
        "# Dados sobre Covid entre 2020 e 2024\n",
        "\n",
        "zip_path = '/Desktop/CDadosProj1/HIST_PAINEL_COVIDBR_06abr2024.zip'\n",
        "\n",
        "df_total = pd.DataFrame()\n",
        "\n",
        "# Abrir o arquivo ZIP\n",
        "with zipfile.ZipFile(zip_path, 'r') as z:\n",
        "    print(z.namelist())\n",
        "\n",
        "with zipfile.ZipFile(zip_path, 'r') as z:\n",
        "    for filename in z.namelist():\n",
        "        if filename.endswith('.csv'):\n",
        "            try:\n",
        "                with z.open(filename) as f:\n",
        "                    df = pd.read_csv(f, sep=';', on_bad_lines='skip')\n",
        "                    # print(df.head())\n",
        "                    df_total = pd.concat([df_total,df], ignore_index=True)\n",
        "            except Exception as e:\n",
        "                print(f\"Erro ao ler {filename}: {e}\")"
      ],
      "metadata": {
        "id": "WbVpiFSvlKj_"
      },
      "execution_count": null,
      "outputs": []
    },
    {
      "cell_type": "code",
      "source": [
        "# Fazendo download de yfinance caso o computador do professor não tenha\n",
        "pip install yfinance --upgrade --no-cache-dir"
      ],
      "metadata": {
        "id": "kmtNQqKwlNsu"
      },
      "execution_count": null,
      "outputs": []
    },
    {
      "cell_type": "code",
      "source": [
        "# Fazendo download de scikit-learn caso o computador do professor não tenha\n",
        "pip install scikit-learn"
      ],
      "metadata": {
        "id": "uQDho4iSmT7f"
      },
      "execution_count": null,
      "outputs": []
    },
    {
      "cell_type": "code",
      "source": [
        "# Pegando dados da Gol e LOG-IN\n",
        "import yfinance as yf\n",
        "\n",
        "tickers = ['GOLL4.SA', 'LOGN3.SA']\n",
        "data = yf.download(tickers, start='2020-02-25', end='2024-04-06')"
      ],
      "metadata": {
        "id": "z1tlZCjMlP61"
      },
      "execution_count": null,
      "outputs": []
    },
    {
      "cell_type": "code",
      "source": [
        "# Obtendo dados de Síndrome Respiratória Aguda Grave\n",
        "\n",
        "zip_path = '/Desktop/CDadosProj1/INFLUD_Covid.zip'\n",
        "\n",
        "df_influd = pd.DataFrame()\n",
        "\n",
        "with zipfile.ZipFile(zip_path, 'r') as z:\n",
        "    print(z.namelist())\n",
        "\n",
        "with zipfile.ZipFile(zip_path, 'r') as z:\n",
        "    for filename in z.namelist():\n",
        "        if filename.endswith('.csv'):\n",
        "            try:\n",
        "                with z.open(filename) as f:\n",
        "                    df = pd.read_csv(f, sep=';', on_bad_lines='skip')\n",
        "                    df_influd = pd.concat([df_influd,df], ignore_index=True)\n",
        "            except Exception as e:\n",
        "                print(f\"Erro ao ler {filename}: {e}\")"
      ],
      "metadata": {
        "id": "Mbtb7wsDng6E"
      },
      "execution_count": null,
      "outputs": []
    },
    {
      "cell_type": "code",
      "source": [
        "# Mudando as datas para o formato datetime para que possam ser utilizadas\n",
        "\n",
        "import matplotlib.dates as mdates\n",
        "import datetime as dt\n",
        "\n",
        "df_total['data'] = pd.to_datetime(df_total['data'])\n",
        "\n",
        "df_influd['DT_SIN_PRI'] = pd.to_datetime(df_influd['DT_SIN_PRI'],dayfirst=True)"
      ],
      "metadata": {
        "id": "5tttE05TkgdI"
      },
      "execution_count": null,
      "outputs": []
    },
    {
      "cell_type": "code",
      "source": [
        "# Colocando dados de data e vacinação em um novo dataframe para que possam ser utilizados sem erro de RAM\n",
        "counts = df_influd[df_influd.VACINA_COV == 1].groupby('DT_SIN_PRI').VACINA_COV.value_counts().reset_index().rename(columns={\"index\": \"data\", 0: \"count\"})\n",
        "\n",
        "df_hist = pd.DataFrame()\n",
        "df_hist['Data'] = pd.date_range(start='1/3/2021', end='12/31/2023')\n",
        "#'2021-01-01':'2023-12-31'\n",
        "df_hist['Num_Vacinados'] = counts['count']\n",
        "df_hist.head()"
      ],
      "metadata": {
        "id": "3oXTcddUn1rO"
      },
      "execution_count": null,
      "outputs": []
    },
    {
      "cell_type": "markdown",
      "source": [
        "# **Análises**\n",
        "\n",
        "Busque orientar sua análise a perguntas que sejam feitas aos dados. Empregue de 5 a 6 perguntas relevantes, que podem estar relacionadas 1-2 temas dentro do problema escolhido. Empregue seleções, gráficos e outros recursos que julgar necessário para **comunicar** suas análises. Empregue instrumentos que dão suporte à sua análise, como correlações, gráficos, pareto, teste de hipóteses etc.\n",
        "\n",
        "Abaixo um modelo opcional para as perguntas."
      ],
      "metadata": {
        "id": "FyFHbT8vygVp"
      }
    },
    {
      "cell_type": "markdown",
      "source": [
        "## **Q1. Pergunta 1.** Hé alguma correlação direta entre a evolução dos casos de Covid-19 no Brasil e os ativos da Bolsa de GOLL4 e LOGN3?\n",
        "\n",
        "Não parece existir uma correlação completamente direta entre ambos bancos de dados, porém existem relações menores que podem ser explicadas."
      ],
      "metadata": {
        "id": "JUj90JrbNIeG"
      }
    },
    {
      "cell_type": "markdown",
      "source": [
        "## **Q2. Pergunta 2.** A quantidade de casos novos de Covid-19 no Brasil afetou em algum ponto os ativos da Bolsa de GOLL4 e LOGN3?\n",
        "\n",
        "O surto de casos no início de 2022 parece ter despencado levemente o valor dos ativos de ambos durante tal época, diminuindo a valor de ambos temporariamente por aproximadamente 4 reais."
      ],
      "metadata": {
        "id": "kR81OmJ6mkrj"
      }
    },
    {
      "cell_type": "markdown",
      "source": [
        "## **Q3. Pergunta 3.** A quantidade de óbitos novos de Covid-19 no Brasil afetou em algum ponto os ativos da Bolsa de GOLL4 e LOGN3?\n",
        "\n",
        "O despenco do valor dos ativos no primeiro trismestre de 2021 parecer ter sido causado pelo pico de óbitos no mesmo período. As 4025 mortes afetaram ambas empresas nesse ponto mais do que qualquer outro."
      ],
      "metadata": {
        "id": "BHu_FWM8moUD"
      }
    },
    {
      "cell_type": "code",
      "source": [
        "# Análise exploratória dos dados da Covid-19\n",
        "# Número de casos ao longo do tempo\n",
        "plt.figure(figsize=(10, 6))\n",
        "#plt.gca().xaxis.set_major_formatter(mdates.DateFormatter('%m/%d/%Y'))\n",
        "#plt.gca().xaxis.set_major_locator(mdates.DayLocator())\n",
        "plt.plot(df_total[df_total.regiao == 'Brasil']['data'], df_total[df_total.regiao == 'Brasil']['casosAcumulado'], label='Casos Acumulados', color = 'red')\n",
        "plt.plot(df_total[df_total.regiao == 'Brasil']['data'], df_total[df_total.regiao == 'Brasil']['obitosAcumulado'], label='Obitos Acumulados', color = 'black')\n",
        "plt.plot(df_total[df_total.regiao == 'Brasil']['data'], df_total[df_total.regiao == 'Brasil']['Recuperadosnovos'], label='Recuperados Acumulados', color = 'blue')\n",
        "#plt.gcf().autofmt_xdate()\n",
        "plt.xlabel('Data')\n",
        "plt.ylabel('Dados')\n",
        "plt.title('Evolução dos Casos de Covid-19 no Brasil')\n",
        "plt.legend()\n",
        "plt.grid(True)\n",
        "plt.show()"
      ],
      "metadata": {
        "id": "47WSkdIDxpjM"
      },
      "execution_count": null,
      "outputs": []
    },
    {
      "cell_type": "code",
      "source": [
        "# Casos Novos pelo Brasil x Data\n",
        "plt.figure(figsize=(10, 6))\n",
        "plt.plot(df_total[df_total.regiao == 'Brasil']['data'], df_total[df_total.regiao == 'Brasil']['casosNovos'], label='Casos Novos')\n",
        "plt.xlabel('Data')\n",
        "plt.ylabel('Casos Novos')\n",
        "plt.title('Casos Novos de Covid-19 no Brasil')\n",
        "plt.legend()\n",
        "plt.grid(True)\n",
        "plt.show()"
      ],
      "metadata": {
        "id": "J4DRiaCBnAZV"
      },
      "execution_count": null,
      "outputs": []
    },
    {
      "cell_type": "code",
      "source": [
        "# Obitos Novos pelo Brasil x Data\n",
        "plt.figure(figsize=(10, 6))\n",
        "plt.plot(df_total[df_total.regiao == 'Brasil']['data'], df_total[df_total.regiao == 'Brasil']['obitosNovos'], label='Obitos Novos')\n",
        "plt.xlabel('Data')\n",
        "plt.ylabel('Obitos Novos')\n",
        "plt.title('Obitos Novos de Covid-19 no Brasil')\n",
        "plt.legend()\n",
        "plt.grid(True)\n",
        "plt.show()"
      ],
      "metadata": {
        "id": "pbdyJhjsnJzM"
      },
      "execution_count": null,
      "outputs": []
    },
    {
      "cell_type": "markdown",
      "source": [
        "## **Q4. Pergunta 4.** Houve algum erro de análise nos dados que você pesquisou?\n",
        "\n",
        "Por alguma razão, provavelmente um erro no registramento de dados, houve um pico inexistente de casos em acompanhamento de Covid no segundo semestre de 2022. Alguém possivelmente anotou a quantidade de casos totais como a quantidade de casos em acompanhamento."
      ],
      "metadata": {
        "id": "fPSv9bhwmqZ4"
      }
    },
    {
      "cell_type": "code",
      "source": [
        "# Casos em Acompanhamento pelo Brasil x Data\n",
        "plt.figure(figsize=(10, 6))\n",
        "plt.plot(df_total[df_total.regiao == 'Brasil']['data'], df_total[df_total.regiao == 'Brasil']['emAcompanhamentoNovos'], label='Casos em Acompanhamento')\n",
        "plt.xlabel('Data')\n",
        "plt.ylabel('Casos em Acompanhamento')\n",
        "plt.title('Casos de Covid-19 em Acompanhamento no Brasil')\n",
        "plt.legend()\n",
        "plt.grid(True)\n",
        "plt.show()"
      ],
      "metadata": {
        "id": "_mSYPJs7nLrp"
      },
      "execution_count": null,
      "outputs": []
    },
    {
      "cell_type": "markdown",
      "source": [
        "## **Q5. Pergunta 5.** Caso a influência nos valores dos ativos não tenha sido diretamente por causa das infecções e mortes por Covid em si, qual seria a correlação entre os dois fatores?\n",
        "\n",
        "Os valores dos ativos parecem terem sido afetados principalmente por causa da quarentena em si. As medidas preventivas causaram um despenco nos valores de ambos quando foram implementadas, também como aumentaram os valores dos mesmos toda vez que uma fase da quarentena terminou e permitiu mais comércio com seus clientes."
      ],
      "metadata": {
        "id": "GPxnTaAxmrym"
      }
    },
    {
      "cell_type": "code",
      "source": [
        "# Análise exploratória dos dados dos ativos da B3\n",
        "# Preço de fechamento das ações ao longo do tempo\n",
        "#data['Adj Close'].plot(figsize=(10, 6))\n",
        "#plt.xlabel('Data')\n",
        "#plt.ylabel('Preço de Fechamento em R$')\n",
        "#plt.title('Evolução dos Preços de Fechamento das Ações')\n",
        "#plt.grid(True)\n",
        "#plt.show()\n",
        "\n",
        "\n",
        "\n",
        "data.index = pd.to_datetime(data.index)\n",
        "\n",
        "# Plotar o gráfico de linha dos preços de fechamento\n",
        "plt.figure(figsize=(10, 6))\n",
        "plt.plot(data.index, data['Adj Close']['GOLL4.SA'], label='GOLL4.SA', color='blue')\n",
        "plt.plot(data.index, data['Adj Close']['LOGN3.SA'], label='LOGN3.SA', color='green')\n",
        "\n",
        "# Calcular a linha de tendência para GOLL4.SA\n",
        "x = np.arange(len(data))\n",
        "y1 = data['Adj Close']['GOLL4.SA']\n",
        "m1, b1 = np.polyfit(x, y1, 1)\n",
        "plt.plot(data.index, m1*x + b1, linestyle='--', color='blue', label='Linha de Tendência GOLL4.SA')\n",
        "\n",
        "# Calcular a linha de média dos valores para GOLL4.SA\n",
        "\n",
        "plt.axhline(y=data['Adj Close']['GOLL4.SA'].mean(), color='blue', linestyle=':', label='Linha de Valores Médios GOLL4.SA')\n",
        "\n",
        "# Calcular a linha de tendência para LOGN3.SA\n",
        "y2 = data['Adj Close']['LOGN3.SA']\n",
        "m2, b2 = np.polyfit(x, y2, 1)\n",
        "plt.plot(data.index, m2*x + b2, linestyle='--', color='green', label='Linha de Tendência LOGN3.SA')\n",
        "\n",
        "# Calcular a linha de média dos valores para LOGN3.SA\n",
        "\n",
        "plt.axhline(y=data['Adj Close']['LOGN3.SA'].mean(), color='green', linestyle=':', label='Linha de Valores Médios LOGN3.SA')\n",
        "\n",
        "# Gráfico para GOLL4.SA e LOGN3.SA\n",
        "\n",
        "plt.xlabel('Data')\n",
        "plt.ylabel('Preço de Fechamento (R$)')\n",
        "plt.title('Evolução dos Preços de Fechamento das Ações GOLL4.SA e LOGN3.SA com Linhas de Tendência')\n",
        "plt.legend()\n",
        "plt.grid(True)\n",
        "plt.show()"
      ],
      "metadata": {
        "id": "-E1_gaLpnOnH"
      },
      "execution_count": null,
      "outputs": []
    },
    {
      "cell_type": "markdown",
      "source": [
        "## **Q6. Pergunta 6.** A quantidade de pacientes com Síndrome Respiratória Aguda Grave Vacinados contra COVID no Brasil entre 2021 e 2023 afetaram de alguma forma os valores dos ativos?\n",
        "\n",
        "A seção de tempo mais clara em que eles possam ter afetado a Bolsa seria no início de 2022, onde ocorreu um despenco nos valores dos ativos no mesmo período. Na mesma época em que os pacientes se recuperaram, os ativos voltaram a crescer de valor."
      ],
      "metadata": {
        "id": "oDWvSu8YnVyz"
      }
    },
    {
      "cell_type": "code",
      "source": [
        "# Plotar o gráfico de pacientes vacinados\n",
        "\n",
        "plt.figure(figsize=(10,6))\n",
        "\n",
        "plt.plot(df_hist['Data'], df_hist['Num_Vacinados'], label='Número de Pacientes Vacinados', color='orange')\n",
        "\n",
        "# Calcular a linha de tendência para pacientes vacinados\n",
        "\n",
        "x = np.arange(len(df_hist))\n",
        "y = df_hist['Num_Vacinados']\n",
        "m, b = np.polyfit(x, y, 1)\n",
        "plt.plot(df_hist['Data'], m*x + b, linestyle='--', color='orange', label='Linha de Tendência de Pacientes Vacinados')\n",
        "\n",
        "# Calcular a linha de média dos pacientes vacinados\n",
        "\n",
        "plt.axhline(y=df_hist['Num_Vacinados'].mean(), color='orange', linestyle=':', label='Linha de Valores Médios de Pacientes Vacinados')\n",
        "\n",
        "plt.xlabel('Data')\n",
        "plt.ylabel('Pacientes Vacinados')\n",
        "plt.title('Pacientes com Síndrome Respiratória Aguda Grave Vacinados contra COVID')\n",
        "plt.legend()\n",
        "plt.grid(True)\n",
        "plt.show()"
      ],
      "metadata": {
        "id": "8lKGRU9tnXdd"
      },
      "execution_count": null,
      "outputs": []
    },
    {
      "cell_type": "markdown",
      "source": [
        "# **Referências**\n",
        "\n",
        "  * https://covid.saude.gov.br/\n",
        "\n",
        "  * https://drive.google.com/drive/folders/1JBd2lb1l40a5J2YHtQ6tsq9pNFA-Rl7U?usp=sharing\n",
        "\n",
        "  * https://www.b3.com.br/pt_br/produtos-e-servicos/negociacao/renda-variavel/empresas-listadas.htm\n",
        "\n",
        "  * https://opendatasus.saude.gov.br/dataset/srag-2021-a-2024  \n",
        "  "
      ],
      "metadata": {
        "id": "7LtXrRFr4hg3"
      }
    },
    {
      "cell_type": "markdown",
      "metadata": {
        "id": "9kwoGZeSLRsX"
      },
      "source": [
        "# **Conclusão**\n",
        "\n",
        "Os ativos da bolsa brasileira da Gol diminuiram drasticamente no início da pandemia, como esperado. Nos meses seguintes, os ativos ficaram relativamente baixos, mas aumentando regularmente até atingir o valor original de antes da pandemia. Estranhamente, o valor de tais diminuiu com o fim de cada etapa da quarentena, algo que persistiu pelos próximos dois anos até valerem quase nada. O caso mais provável é que a empresa de linhas aéreas se endividou durante o início das medidas restritivas, e mesmo com a reabertura de seu comércio, o lucro com seus clientes não foi o suficiente para pagá-las. Parece existir uma correlação sobre a quantidade de casos novos e óbitos por Covid, mas não deve ser confundida por causa e efeito. É difícil acreditar que uma empresa que transporta seus clientes lucraria com danos causados a eles.\n",
        "\n",
        "O oposto aconteceu com a LOG-IN, pela maior parte. Os ativos dela cairam menos do que os da Gol durante a pandemia, porém ficaram estáveis quando ela persistiu. Como ela é uma empresa de tecnologia, faz sentido dela crescer e obter oportunidades no mercado quando sua tecnologia e serviços a utilizando estava em tão alta demanda devido a quarentena. Mesmo com os danos que Covid causou a economia, seu crescimento impediu grandes danos a LOG-IN Além disso, quando tal período terminou, o preço dos ativos aumentaram consistentemente. Há boa probabilidade que a empresa prometeu a investidores o mesmo crescimento depois da pandemia terminar, uma promessa que pode manter devido a atenção dobrada entre 2020 e 2022. Com uma relação inversamente proporcional aos casos de óbitos de Covid, o quão mais eles diminuiram, o quão mais os ativos cresceram.\n",
        "\n",
        "Quanto a correlação dos ativos com os pacientes com síndrome respiratória aguda grave, uma explicação já é pelo menos um pouco fácil. A quantidade de pessoas vacinadas na segunda metade de 2021 parece ter afetado ambas empresas, como houve um pequeno pico para ambas durante esse período, portanto o aumento da vacinação e o decrescimento de casos novos parece ter afetado-as positivamente. A Gol especialmente teve seu último pico mais positivo durante o mesmo período. No outro lado, o pico de casos justamente depois do início de 2022 não parece ter afetado os ativos nem um pouco. Ou, se afetou, perturbou apenas a Gol. Assim, é possível ver que a vacinação geral em 2021 levou ao final de uma etapa de quarentena, aumentando o valor dos ativos. Porém, devido as festas de final de ano sem cuidado, houve tanta propagação do vírus que até as pessoas vacinadas foram infectadas em números enormes. Mas mesmo com esse pico de casos, a quarentena não voltou uma etapa, portanto as empresas não foram afetadas em grande parte.\n",
        "\n"
      ]
    },
    {
      "cell_type": "markdown",
      "source": [
        "# **Apêndice: Vídeo, GitHub e Datafólio**\n",
        "\n",
        "Publique (YouTube ou qualquer outro de acesso público) um vídeo explicativo apresentando o seu trabalho em no máximo 4min. Foque na relevância do problema e nos resultados obtidos. Salve em um GitHub público seu projeto (o notebook Python, dados, Datafólio)."
      ],
      "metadata": {
        "id": "ZGpU-v6CnTaG"
      }
    },
    {
      "cell_type": "code",
      "source": [
        "from IPython.display import YouTubeVideo\n",
        "YouTubeVideo('iTjwyird-Nc')"
      ],
      "metadata": {
        "id": "LqJACWuip3YG",
        "outputId": "d19798b5-7e8c-4520-a40b-ca7a5fa31515",
        "colab": {
          "base_uri": "https://localhost:8080/",
          "height": 321
        }
      },
      "execution_count": 1,
      "outputs": [
        {
          "output_type": "execute_result",
          "data": {
            "text/plain": [
              "<IPython.lib.display.YouTubeVideo at 0x7d5635286bf0>"
            ],
            "text/html": [
              "\n",
              "        <iframe\n",
              "            width=\"400\"\n",
              "            height=\"300\"\n",
              "            src=\"https://www.youtube.com/embed/iTjwyird-Nc\"\n",
              "            frameborder=\"0\"\n",
              "            allowfullscreen\n",
              "            \n",
              "        ></iframe>\n",
              "        "
            ],
            "image/jpeg": "[encoded data removed]"
          },
          "metadata": {},
          "execution_count": 1
        }
      ]
    },
    {
      "cell_type": "markdown",
      "metadata": {
        "id": "8crUBC3IQ3U_"
      },
      "source": [
        "---"
      ]
    },
    {
      "cell_type": "code",
      "metadata": {
        "id": "BluFtfHuCGzm",
        "cellView": "form"
      },
      "source": [
        "#@markdown\n",
        "#@title **Avaliação**\n",
        "Completo = 10 #@param {type:\"slider\", min:0, max:10, step:1}\n",
        "#@markdown São apresentadas 5-6 perguntas e empregadas estatísticas descritivas, seleções simples e múltiplas, agrupamentos e transformações dos dados.\n",
        "Relevancia = 9 #@param {type:\"slider\", min:0, max:10, step:1}\n",
        "#@markdown O tema é abordado corretamente e as perguntas e análises pertinentes ao problema.\n",
        "Tecnicas = 10 #@param {type:\"slider\", min:0, max:10, step:1}\n",
        "#@markdown As técnicas de gadas estatísticas dos dados, seleções, agrupamentos e transformações são corretamente aplicadas\n",
        "Apresentacao = 5 #@param {type:\"slider\", min:0, max:10, step:1}\n",
        "#@markdown A apresentação dos resultados é clara e objetiva\n",
        "Conclusao = 3 #@param {type:\"slider\", min:0, max:10, step:1}\n",
        "#@markdown As conclusões são justificadas e relevantes\n",
        "Bonus = 0.5 #@param {type:\"slider\", min:0, max:1, step:0.5}\n",
        "#@markdown A critério do professor por inovações na abordagem e no uso de técnicas de Análise de Dados\n",
        "\n",
        "#@markdown ---\n",
        "#@markdown ### Apresentação\n",
        "Datafolio = 0 #@param {type:\"slider\", min:0, max:10, step:1}\n",
        "Video = 0 #@param {type:\"slider\", min:0, max:10, step:1}\n",
        "\n",
        "\n",
        "\n"
      ],
      "execution_count": null,
      "outputs": []
    },
    {
      "cell_type": "code",
      "metadata": {
        "colab": {
          "base_uri": "https://localhost:8080/",
          "height": 147
        },
        "id": "2Gqw7hUZHyle",
        "cellView": "form",
        "outputId": "632a2c94-4a20-4aca-a86a-82cfdcb35db6"
      },
      "source": [
        "#@markdown # **Nota Final**\n",
        "Nota1 = Completo + Relevancia + Tecnicas + Apresentacao + Conclusao\n",
        "Nota2 = Datafolio + Apresentacao\n",
        "\n",
        "nota = (Nota1 + Nota2) / 7 + Bonus\n",
        "\n",
        "nota = Nota1 / 5 + Bonus\n",
        "\n",
        "print(f'Nota final do trabalho {nota :.1f}')\n",
        "\n",
        "import numpy as np\n",
        "import pandas as pd\n",
        "\n",
        "alunos = pd.DataFrame()\n",
        "\n",
        "lista_tia = []\n",
        "lista_nome = []\n",
        "\n",
        "for i in range(1,6):\n",
        "  exec(\"if Aluno\" + str(i) + \" !='None':  lista = Aluno\" + str(i) + \".split(','); lista_tia.append(lista[0]); lista_nome.append(lista[1].upper())\")\n",
        "\n",
        "alunos['tia'] = lista_tia\n",
        "alunos['nome'] = lista_nome\n",
        "alunos['nota'] = np.round(nota,1)\n",
        "print()\n",
        "display(alunos)"
      ],
      "execution_count": null,
      "outputs": [
        {
          "output_type": "stream",
          "name": "stdout",
          "text": [
            "Nota final do trabalho 7.4\n",
            "\n"
          ]
        },
        {
          "output_type": "display_data",
          "data": {
            "text/plain": [
              "       tia              nome  nota\n",
              "0  1115665    ADRIANA FUJITA   7.4\n",
              "1  1115677   DANIEL HENRIQUE   7.4"
            ],
            "text/html": [
              "\n",
              "  <div id=\"df-4a7ed510-daec-4c44-af42-275bebfa0a34\">\n",
              "    <div class=\"colab-df-container\">\n",
              "      <div>\n",
              "<style scoped>\n",
              "    .dataframe tbody tr th:only-of-type {\n",
              "        vertical-align: middle;\n",
              "    }\n",
              "\n",
              "    .dataframe tbody tr th {\n",
              "        vertical-align: top;\n",
              "    }\n",
              "\n",
              "    .dataframe thead th {\n",
              "        text-align: right;\n",
              "    }\n",
              "</style>\n",
              "<table border=\"1\" class=\"dataframe\">\n",
              "  <thead>\n",
              "    <tr style=\"text-align: right;\">\n",
              "      <th></th>\n",
              "      <th>tia</th>\n",
              "      <th>nome</th>\n",
              "      <th>nota</th>\n",
              "    </tr>\n",
              "  </thead>\n",
              "  <tbody>\n",
              "    <tr>\n",
              "      <th>0</th>\n",
              "      <td>1115665</td>\n",
              "      <td>ADRIANA FUJITA</td>\n",
              "      <td>7.4</td>\n",
              "    </tr>\n",
              "    <tr>\n",
              "      <th>1</th>\n",
              "      <td>1115677</td>\n",
              "      <td>DANIEL HENRIQUE</td>\n",
              "      <td>7.4</td>\n",
              "    </tr>\n",
              "  </tbody>\n",
              "</table>\n",
              "</div>\n",
              "      <button class=\"colab-df-convert\" onclick=\"convertToInteractive('df-4a7ed510-daec-4c44-af42-275bebfa0a34')\"\n",
              "              title=\"Convert this dataframe to an interactive table.\"\n",
              "              style=\"display:none;\">\n",
              "        \n",
              "  <svg xmlns=\"http://www.w3.org/2000/svg\" height=\"24px\"viewBox=\"0 0 24 24\"\n",
              "       width=\"24px\">\n",
              "    <path d=\"M0 0h24v24H0V0z\" fill=\"none\"/>\n",
              "    <path d=\"M18.56 5.44l.94 2.06.94-2.06 2.06-.94-2.06-.94-.94-2.06-.94 2.06-2.06.94zm-11 1L8.5 8.5l.94-2.06 2.06-.94-2.06-.94L8.5 2.5l-.94 2.06-2.06.94zm10 10l.94 2.06.94-2.06 2.06-.94-2.06-.94-.94-2.06-.94 2.06-2.06.94z\"/><path d=\"M17.41 7.96l-1.37-1.37c-.4-.4-.92-.59-1.43-.59-.52 0-1.04.2-1.43.59L10.3 9.45l-7.72 7.72c-.78.78-.78 2.05 0 2.83L4 21.41c.39.39.9.59 1.41.59.51 0 1.02-.2 1.41-.59l7.78-7.78 2.81-2.81c.8-.78.8-2.07 0-2.86zM5.41 20L4 18.59l7.72-7.72 1.47 1.35L5.41 20z\"/>\n",
              "  </svg>\n",
              "      </button>\n",
              "      \n",
              "  <style>\n",
              "    .colab-df-container {\n",
              "      display:flex;\n",
              "      flex-wrap:wrap;\n",
              "      gap: 12px;\n",
              "    }\n",
              "\n",
              "    .colab-df-convert {\n",
              "      background-color: #E8F0FE;\n",
              "      border: none;\n",
              "      border-radius: 50%;\n",
              "      cursor: pointer;\n",
              "      display: none;\n",
              "      fill: #1967D2;\n",
              "      height: 32px;\n",
              "      padding: 0 0 0 0;\n",
              "      width: 32px;\n",
              "    }\n",
              "\n",
              "    .colab-df-convert:hover {\n",
              "      background-color: #E2EBFA;\n",
              "      box-shadow: 0px 1px 2px rgba(60, 64, 67, 0.3), 0px 1px 3px 1px rgba(60, 64, 67, 0.15);\n",
              "      fill: #174EA6;\n",
              "    }\n",
              "\n",
              "    [theme=dark] .colab-df-convert {\n",
              "      background-color: #3B4455;\n",
              "      fill: #D2E3FC;\n",
              "    }\n",
              "\n",
              "    [theme=dark] .colab-df-convert:hover {\n",
              "      background-color: #434B5C;\n",
              "      box-shadow: 0px 1px 3px 1px rgba(0, 0, 0, 0.15);\n",
              "      filter: drop-shadow(0px 1px 2px rgba(0, 0, 0, 0.3));\n",
              "      fill: #FFFFFF;\n",
              "    }\n",
              "  </style>\n",
              "\n",
              "      <script>\n",
              "        const buttonEl =\n",
              "          document.querySelector('#df-4a7ed510-daec-4c44-af42-275bebfa0a34 button.colab-df-convert');\n",
              "        buttonEl.style.display =\n",
              "          google.colab.kernel.accessAllowed ? 'block' : 'none';\n",
              "\n",
              "        async function convertToInteractive(key) {\n",
              "          const element = document.querySelector('#df-4a7ed510-daec-4c44-af42-275bebfa0a34');\n",
              "          const dataTable =\n",
              "            await google.colab.kernel.invokeFunction('convertToInteractive',\n",
              "                                                     [key], {});\n",
              "          if (!dataTable) return;\n",
              "\n",
              "          const docLinkHtml = 'Like what you see? Visit the ' +\n",
              "            '<a target=\"_blank\" href=https://colab.research.google.com/notebooks/data_table.ipynb>data table notebook</a>'\n",
              "            + ' to learn more about interactive tables.';\n",
              "          element.innerHTML = '';\n",
              "          dataTable['output_type'] = 'display_data';\n",
              "          await google.colab.output.renderOutput(dataTable, element);\n",
              "          const docLink = document.createElement('div');\n",
              "          docLink.innerHTML = docLinkHtml;\n",
              "          element.appendChild(docLink);\n",
              "        }\n",
              "      </script>\n",
              "    </div>\n",
              "  </div>\n",
              "  "
            ]
          },
          "metadata": {}
        }
      ]
    }
  ]
}